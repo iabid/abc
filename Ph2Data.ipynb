{
  "nbformat": 4,
  "nbformat_minor": 0,
  "metadata": {
    "colab": {
      "name": "Ph2Data.ipynb",
      "provenance": [],
      "collapsed_sections": [],
      "authorship_tag": "ABX9TyONXyky4NHKUxPl4HAchW4u",
      "include_colab_link": true
    },
    "kernelspec": {
      "name": "python3",
      "display_name": "Python 3"
    },
    "accelerator": "TPU"
  },
  "cells": [
    {
      "cell_type": "markdown",
      "metadata": {
        "id": "view-in-github",
        "colab_type": "text"
      },
      "source": [
        "<a href=\"https://colab.research.google.com/github/iabid/abc/blob/master/Ph2Data.ipynb\" target=\"_parent\"><img src=\"https://colab.research.google.com/assets/colab-badge.svg\" alt=\"Open In Colab\"/></a>"
      ]
    },
    {
      "cell_type": "code",
      "metadata": {
        "id": "z-fWRGrL60Yx"
      },
      "source": [
        "! git clone https://github.com/DebeshJha/2020-CBMS-DoubleU-Net.git"
      ],
      "execution_count": null,
      "outputs": []
    },
    {
      "cell_type": "code",
      "metadata": {
        "id": "DtfAdx077EY9"
      },
      "source": [
        "from google.colab import drive\n",
        "drive.mount('/content/drive')"
      ],
      "execution_count": null,
      "outputs": []
    },
    {
      "cell_type": "code",
      "metadata": {
        "id": "rahokqK57SkS"
      },
      "source": [
        "cd /content/2020-CBMS-DoubleU-Net"
      ],
      "execution_count": null,
      "outputs": []
    },
    {
      "cell_type": "code",
      "metadata": {
        "id": "CcSdk_PL7bhi"
      },
      "source": [
        "!python3 /content/2020-CBMS-DoubleU-Net/data.py"
      ],
      "execution_count": null,
      "outputs": []
    },
    {
      "cell_type": "code",
      "metadata": {
        "id": "9WN4b72FAIQU"
      },
      "source": [
        "!python3 /content/2020-CBMS-DoubleU-Net/train.py"
      ],
      "execution_count": null,
      "outputs": []
    },
    {
      "cell_type": "code",
      "metadata": {
        "id": "Iveh0UZs_Gw5"
      },
      "source": [
        "!python3 /content/2020-CBMS-DoubleU-Net/predict.py"
      ],
      "execution_count": null,
      "outputs": []
    }
  ]
}
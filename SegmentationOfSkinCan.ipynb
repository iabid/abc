{
  "nbformat": 4,
  "nbformat_minor": 0,
  "metadata": {
    "colab": {
      "name": "Untitled3.ipynb",
      "provenance": [],
      "authorship_tag": "ABX9TyNUwUvdoTlJD9rLSN9wm2UX",
      "include_colab_link": true
    },
    "kernelspec": {
      "name": "python3",
      "display_name": "Python 3"
    }
  },
  "cells": [
    {
      "cell_type": "markdown",
      "metadata": {
        "id": "view-in-github",
        "colab_type": "text"
      },
      "source": [
        "<a href=\"https://colab.research.google.com/github/iabid/abc/blob/master/SegmentationOfSkinCan.ipynb\" target=\"_parent\"><img src=\"https://colab.research.google.com/assets/colab-badge.svg\" alt=\"Open In Colab\"/></a>"
      ]
    },
    {
      "cell_type": "code",
      "metadata": {
        "colab": {
          "base_uri": "https://localhost:8080/"
        },
        "id": "1q6kruc9FG3Y",
        "outputId": "57097f1b-f2bb-409e-9080-a301627b6bf6"
      },
      "source": [
        "! git clone https://github.com/ruchiawasthi63/Skin-Cancer-Segmentation-.git"
      ],
      "execution_count": 1,
      "outputs": [
        {
          "output_type": "stream",
          "text": [
            "Cloning into 'Skin-Cancer-Segmentation-'...\n",
            "remote: Enumerating objects: 35, done.\u001b[K\n",
            "remote: Total 35 (delta 0), reused 0 (delta 0), pack-reused 35\u001b[K\n",
            "Unpacking objects: 100% (35/35), done.\n"
          ],
          "name": "stdout"
        }
      ]
    },
    {
      "cell_type": "code",
      "metadata": {
        "id": "yIjqQuk-FMP2"
      },
      "source": [
        "from google.colab import drive\r\n",
        "drive.mount('/content/drive')"
      ],
      "execution_count": null,
      "outputs": []
    },
    {
      "cell_type": "code",
      "metadata": {
        "id": "f3DOhAKVHSFa"
      },
      "source": [
        "!ls\r\n"
      ],
      "execution_count": null,
      "outputs": []
    },
    {
      "cell_type": "code",
      "metadata": {
        "id": "MOqDfFwPHWar"
      },
      "source": [
        "cd /content/Skin-Cancer-Segmentation-"
      ],
      "execution_count": null,
      "outputs": []
    },
    {
      "cell_type": "code",
      "metadata": {
        "id": "LSuC4kcYQ_is"
      },
      "source": [
        "!python3 /content/Skin-Cancer-Segmentation-/import.py"
      ],
      "execution_count": null,
      "outputs": []
    },
    {
      "cell_type": "code",
      "metadata": {
        "id": "G1F8WpbDHg27"
      },
      "source": [
        "!python3 /content/Skin-Cancer-Segmentation-/pre_process.py"
      ],
      "execution_count": null,
      "outputs": []
    },
    {
      "cell_type": "code",
      "metadata": {
        "id": "N_NFC9TmTG37"
      },
      "source": [
        "!python3 /content/Skin-Cancer-Segmentation-/post_process.py"
      ],
      "execution_count": null,
      "outputs": []
    },
    {
      "cell_type": "code",
      "metadata": {
        "id": "qHZCElr8TLVj"
      },
      "source": [
        "!python3 /content/Skin-Cancer-Segmentation-/train.py"
      ],
      "execution_count": null,
      "outputs": []
    },
    {
      "cell_type": "code",
      "metadata": {
        "id": "62AqleB0TP0P"
      },
      "source": [
        "!python3 /content/Skin-Cancer-Segmentation-/unet.py"
      ],
      "execution_count": null,
      "outputs": []
    },
    {
      "cell_type": "code",
      "metadata": {
        "id": "X8uKYHFlTRnP"
      },
      "source": [
        "!python3 /content/Skin-Cancer-Segmentation-/test.py"
      ],
      "execution_count": null,
      "outputs": []
    }
  ]
}